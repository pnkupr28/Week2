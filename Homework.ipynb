{
 "cells": [
  {
   "cell_type": "markdown",
   "metadata": {},
   "source": [
    "## Homework\n",
    "\n",
    "Complete this notebook and the exercise prompts in the other lecture notebooks and submit them on GitHub"
   ]
  },
  {
   "cell_type": "markdown",
   "metadata": {},
   "source": [
    "Question 1: Provide a definition of and example for each of these terms:\n",
    "\n",
    "| Term | Example | Definition |\n",
    "| ----- | ------- | ---------- |\n",
    "| type  |      int      |   The kind of data a value holds  | \n",
    "| variables  |    some_value   |   A name that stores data values  | \n",
    "| boolean  |     True/False       |   A data type that represents one of two values  | \n",
    "| arithmetic operators  |     +/-      |   Used to perform basic mathematical operations  | \n",
    "| operands  |     3 + 6 \"The 3 and the 6 are operands\"       |  The values that the operators act upon  | \n",
    "| comparison operator  |      ==/!=      |   Its used to compare two values and then return a boolean result   | \n",
    "| boolean operator   |   and/or/not    |  It is used to perform operations that return True or False    | \n",
    "| conditional statement   |     if/elif/else    |  Allows code to be executed based on whether a condition is true or false    | \n"
   ]
  },
  {
   "cell_type": "markdown",
   "metadata": {},
   "source": [
    "Question 2: For each of these operators, for each of the python data types we know, can it take them as operands? Write `Y` or `N` (Assume both operands are the same type.)\n",
    "\n",
    "| Operator | Int/Float | String | Boolean | \n",
    "| -------  | --------- | ------ | ------- | \n",
    "| +\t|    Y    |    Y   |     N      | \n",
    "| -\t|    Y    |    N   |     N      | \n",
    "| *\t|    Y    |    Y   |     N      |   \n",
    "| /\t|    Y    |    N   |     N      |   \n",
    "| **\t|    Y    |    N   |     N      |   \n",
    "| % |    Y    |   N    |     N      |   \n",
    "| == |    Y    |    Y   |     Y      |   \n",
    "| != |    Y    |    Y   |     Y      |   \n",
    "| > |     Y    |    Y  |     N      |   \n",
    "| < |     Y    |    Y   |     N      |   \n",
    "| >= |     Y    |    N   |     N      |   \n",
    "| <= |    Y   |   N    |       N    |   \n",
    "| and |   N      |   N    |     Y      |   \n",
    "| or |     N    |   N    |      Y     |   \n",
    "| not |     N    |   N    |     Y     |   "
   ]
  },
  {
   "cell_type": "markdown",
   "metadata": {},
   "source": [
    "Question 3:  There are three aspects to any problem in computing - INPUT, COMPUTATION, OUTPUT. Use this framework to break down a problem. Describe what are the inputs, how to get them, what computation you would do, and how would you output them.\n",
    "\n",
    "\n",
    "\n",
    "EX:\n",
    "1. So for example the problem I selected is solving math equations -- in other words making a calculator\n",
    "2. Then we ask the user for an input\n",
    "2a. user_input1: str = input(\"Give me a number\")\n",
    "2b. user_input2: str = input(\"Give me another number\")\n",
    "3b1. user_input3: str = input(\"Give me a command\")\n",
    "3b2. This line of code is the computation which means the actual code is being set up for the response -- meaning the number can be either added, subtracted, multiplied, whatever the user would like, but obviously the command would have to be named so that the input could be read by the code. Once you get those inputs and they are read by the code then what you have to do next is release the output.\n",
    "4a. So for this output to be released all you have to do is name the actual answer a variable, then do another line of code that reads the variable that stores the answer. Down below is  sample code that would be shown if the user selected the plus(+) command:\n",
    "4b1. answer = user_input1 + user_input2\n",
    "4b2. print(answer)\n",
    "So for approaching this problem, we first set up the input code -- the code that gets the values from the user identifying what they want done from the calculator and what kind of numbers they want used. After this step we have the computation as well as the input done which leaves us to the output -- which is basically printing out the response.\n"
   ]
  },
  {
   "cell_type": "markdown",
   "metadata": {},
   "source": [
    "Question 4: Identify the problems in the following pieces of code and fix them. Describe the problem either by writing comment in the code cell or using Markdown"
   ]
  },
  {
   "cell_type": "code",
   "execution_count": 4,
   "metadata": {},
   "outputs": [],
   "source": [
    "# A.\n",
    "my_variable: int = 123\n",
    "\n",
    "##So what I had to do is get rid of the quotation marks because an int cant be equaled to a string"
   ]
  },
  {
   "cell_type": "code",
   "execution_count": 5,
   "metadata": {},
   "outputs": [
    {
     "name": "stdout",
     "output_type": "stream",
     "text": [
      "123\n"
     ]
    }
   ],
   "source": [
    "# B\n",
    "print(my_variable)\n",
    "\n",
    "##The issue here is the {my variable} was missing a paranthesis"
   ]
  },
  {
   "cell_type": "code",
   "execution_count": 6,
   "metadata": {},
   "outputs": [
    {
     "name": "stdout",
     "output_type": "stream",
     "text": [
      "num_a is less than num_b\n"
     ]
    }
   ],
   "source": [
    "# C\n",
    "num_a: int = 5\n",
    "num_b: int = 10\n",
    "\n",
    "if(num_a < num_b):\n",
    "    print(\"num_a is less than num_b\")\n",
    "else:\n",
    "    print(\"num_b is less than num_a\")\n",
    "\n",
    "##So what this part was missing was initially for the \"if\" it was missing a paranthesis around the wanted command and also a colon after the paranthesis. \n",
    "##And for the \"else\" it was also missing a colon.\n",
    "##For the last part of the else there is a missing quotation mark and paranthesis."
   ]
  },
  {
   "cell_type": "code",
   "execution_count": 7,
   "metadata": {},
   "outputs": [
    {
     "name": "stdout",
     "output_type": "stream",
     "text": [
      "Hello Kal-El from Krypton. Welcome to earth\n"
     ]
    }
   ],
   "source": [
    "# D\n",
    "user_name: str = \"Kal-El\"\n",
    "home: str = \"Krypton\"\n",
    "\n",
    "print(f\"Hello {user_name} from {home}. Welcome to earth\")\n",
    "\n",
    "\n",
    "##What this block of code is missing the brackets around the words \"user_name\" and \"home\""
   ]
  },
  {
   "cell_type": "markdown",
   "metadata": {},
   "source": [
    "Question 5: What is the following expression checking? What does it evaluate to? How can you modify the expression to get the opposite value?"
   ]
  },
  {
   "cell_type": "code",
   "execution_count": 8,
   "metadata": {},
   "outputs": [
    {
     "data": {
      "text/plain": [
       "False"
      ]
     },
     "execution_count": 8,
     "metadata": {},
     "output_type": "execute_result"
    }
   ],
   "source": [
    "\"hello\" in \"hi, how are you doing?\"\n",
    "\n",
    "##The following string is checking whether the string \"hello\" is a substring of \"hi, how are you doing?\"\n",
    "##This evaluates to False (because \"hello\" is not present in the string \"hi, how are you doing?\")\n",
    "##You can modify the expression using the \"not\" keyword to invert the result"
   ]
  },
  {
   "cell_type": "markdown",
   "metadata": {},
   "source": [
    "Question 6: Convert the instruction/question into code\n",
    "\n",
    "* A: Convert all the letters into uppercase letters - \"hEElOO\"  \n",
    "\n",
    "* B: Check if the string \"hello123\" has only letters\n",
    "\n",
    "* C: Count the number of letters in the word \"strawberry\"\n",
    "\n",
    "* D: Count the number of the letter \"e\" in the string: \"Do you find this humorous?\"\n"
   ]
  },
  {
   "cell_type": "code",
   "execution_count": 17,
   "metadata": {},
   "outputs": [
    {
     "name": "stdout",
     "output_type": "stream",
     "text": [
      "HEELOO\n",
      "This string indeed does not only have letters\n",
      "The number of letters in strawberry is 10 letters\n"
     ]
    },
    {
     "data": {
      "text/plain": [
       "0"
      ]
     },
     "execution_count": 17,
     "metadata": {},
     "output_type": "execute_result"
    }
   ],
   "source": [
    "##Question 6 Response\n",
    "\n",
    "\n",
    "##* A: Convert all the letters into uppercase letters - \"hEElOO\"\n",
    "uppercase_string: str = \"hEElOO\".upper()\n",
    "print(uppercase_string)\n",
    "\n",
    "##* B: Check if the string \"hello123\" has only letters\n",
    "check_statement: str = \"hello123\"\n",
    "if(check_statement.isalpha()):\n",
    "    print(\"This string only has letters\")\n",
    "else:\n",
    "    print(\"This string indeed does not only have letters\")\n",
    "\n",
    "##* C: Count the number of letters in the word \"strawberry\"\n",
    "the_length: int = len(\"strawberry\")\n",
    "print(f\"The number of letters in strawberry is {the_length} letters\")\n",
    "\n",
    "##* D: Count the number of the letter \"e\" in the string: \"Do you find this humorous?\"\n",
    "check_letters: str = \"Do you find this humorous?\"\n",
    "check_letters.count(\"e\")"
   ]
  },
  {
   "cell_type": "markdown",
   "metadata": {},
   "source": [
    "Question 7: Write a snippet that asks users for their age. Tell them if they are old enough to drive or not. "
   ]
  },
  {
   "cell_type": "code",
   "execution_count": 100,
   "metadata": {},
   "outputs": [
    {
     "name": "stdout",
     "output_type": "stream",
     "text": [
      "Are you still alive?\n"
     ]
    }
   ],
   "source": [
    "##Question 7 Response\n",
    "\n",
    "age_number: int = int(input(\"What is your age so I can know if you are old enough to drive or not?\"))\n",
    "if(age_number >= 16 and not age_number >= 90):\n",
    "    print(\"You are indeed old enough to drive\")\n",
    "elif(age_number >= 90):\n",
    "    print(\"Are you still alive?\")\n",
    "else:\n",
    "    print(\"You are unfortunately not old enough to drive yet\")"
   ]
  },
  {
   "cell_type": "markdown",
   "metadata": {},
   "source": [
    "Question 8: Check their answer and respond accordingly. If they say their age is 2, tell them they have barely starte walking, if they say their age is 200, tell them if they are human or a robot"
   ]
  },
  {
   "cell_type": "code",
   "execution_count": 76,
   "metadata": {},
   "outputs": [
    {
     "name": "stdout",
     "output_type": "stream",
     "text": [
      "Are you still alive?\n"
     ]
    }
   ],
   "source": [
    "##Question 8 Response \n",
    "\n",
    "age_number: int = int(input(\"What is your age so I can know if you are old enough to drive or not?\"))\n",
    "if(age_number == 2):\n",
    "    print(\"You have barely started to walk I see\")\n",
    "elif(age_number == 200):\n",
    "    print(\"Are you a human or a robot?\")\n",
    "elif(age_number >= 16 and not age_number >= 90):\n",
    "    print(\"You are indeed old enough to drive\")\n",
    "elif(age_number >= 90):\n",
    "    print(\"Are you still alive?\")\n",
    "else:\n",
    "    print(\"You are unfortunately not old enough to drive yet\")"
   ]
  },
  {
   "cell_type": "markdown",
   "metadata": {},
   "source": [
    "Question 9: At each stage, check if they are providing numbers or not. If not, tell them to do so."
   ]
  },
  {
   "cell_type": "code",
   "execution_count": 97,
   "metadata": {},
   "outputs": [
    {
     "name": "stdout",
     "output_type": "stream",
     "text": [
      "Are you still alive?\n"
     ]
    }
   ],
   "source": [
    "##Question 9 Response\n",
    "\n",
    "loop1: bool = True\n",
    "while(loop1):\n",
    "    age_number: str = input(\"What is your age so I can know if you are old enough to drive or not?\")\n",
    "    if(age_number.isalpha()):\n",
    "        print(\"Like I said, I would like you to give me your age please\")\n",
    "    elif(age_number.isdigit()):\n",
    "        age_number1 = int(age_number)\n",
    "        loop1 = False\n",
    "        if(age_number1 == 2):\n",
    "            print(\"You have barely started to walk I see\")\n",
    "        elif(age_number1 == 200):\n",
    "            print(\"Are you a human or a robot?\")\n",
    "        elif(age_number1 >= 16 and not age_number1 >= 90):\n",
    "            print(\"You are indeed old enough to drive\")\n",
    "        elif(age_number1 >= 90):\n",
    "            print(\"Are you still alive?\")\n",
    "        else:\n",
    "            print(\"You are unfortunately not old enough to drive yet\")\n",
    "    else:\n",
    "        print(\"That is unfortunately an invalid response\")"
   ]
  }
 ],
 "metadata": {
  "kernelspec": {
   "display_name": "Python 3",
   "language": "python",
   "name": "python3"
  },
  "language_info": {
   "codemirror_mode": {
    "name": "ipython",
    "version": 3
   },
   "file_extension": ".py",
   "mimetype": "text/x-python",
   "name": "python",
   "nbconvert_exporter": "python",
   "pygments_lexer": "ipython3",
   "version": "3.9.6"
  }
 },
 "nbformat": 4,
 "nbformat_minor": 2
}
